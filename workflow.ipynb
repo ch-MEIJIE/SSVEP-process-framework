{
 "cells": [
  {
   "cell_type": "markdown",
   "metadata": {},
   "source": [
    "# SSVEP Decoding Framework\n",
    " I want to build a general pipeline for SSVEP EEG signal decoding, in which it is easy to complete basic EEG processing stages like:\n",
    " * cutting and slicing your data\n",
    " * filtering data\n",
    " * applying feature extraction method\n",
    " *  matching pattern and get result\n",
    "\n",
    "The key inspiration of the framework design ethic is modular, and I want to take the manually parts like experimental information, special filters and feature extraction methods out of the main executing. So that it's much easier to re-write or add new minds into the framework. In the other words, it is a framework that flexible, easy for new learner and try something new.\n",
    "\n",
    "There are 3 main class defined in this framework. If you just focus on get model for online experiment or do some cross validation, the `data_runner` class and `data_cross_validation` class are what you need, you can just read through and run them. In the `filter_apply` class, you can configure your own time-filter parameters, and what I must admit is that the filter parameters in the current version is not the best, and haven't been optimized at all! \n",
    "\n",
    "You may notice that there are several functions above the main classes, they can be named as helper functions. I can move them together and separate them to a helper collection and make the main program clear."
   ]
  },
  {
   "cell_type": "markdown",
   "metadata": {},
   "source": [
    "## Import necessary external packages here\n",
    " \n",
    "In this framework, I try to use external packages as little as possible. Compared to use the toolbox like mne, it's a bit of troublesome, but not too much. Jump out of the mne processing and data framework can make you understand the data routine more clearly.\n",
    "\n",
    "However, if you like, you can feel free add some packages for boosting the function of the framework."
   ]
  },
  {
   "cell_type": "code",
   "execution_count": 37,
   "metadata": {},
   "outputs": [],
   "source": [
    "from multiprocessing import set_forkserver_preload\n",
    "from os.path import join as pjoin\n",
    "from tkinter.filedialog import test\n",
    "from turtle import mode\n",
    "import numpy as np\n",
    "import scipy.signal\n",
    "from sklearn.discriminant_analysis import LinearDiscriminantAnalysis\n",
    "from scipy.io import loadmat\n",
    "import json\n",
    "from collections import defaultdict\n",
    "from matplotlib import pyplot as plt\n",
    "\n",
    "# Manully packages and funtions\n",
    "from helper_functions import *"
   ]
  },
  {
   "cell_type": "code",
   "execution_count": 38,
   "metadata": {},
   "outputs": [],
   "source": [
    "class data_trainer():\n",
    "    \"\"\"\n",
    "    \n",
    "    \"\"\"\n",
    "    def __init__(self, data, data_info, spatial_filter_type='TRCA') -> None:\n",
    "        self.template_storage = dict()\n",
    "        self.slice_data_storage = data\n",
    "        self.spatial_filter_type = spatial_filter_type\n",
    "        self.event_series = self.slice_data_storage.keys()\n",
    "        self.epochs_in_data = data_info['epochs_in_data']\n",
    "        self.blocks_in_data = data_info['blocks_in_data']\n",
    "    \n",
    "    def model_train(self):\n",
    "        \"\"\"\n",
    "        Method to train feature extracting model by iteracting the dict keys, which map to all kind of triggers data.\n",
    "        \"\"\"\n",
    "        self.spatial_filters = dict()\n",
    "        for train_trial_iter in self.event_series:\n",
    "            train_epochs = np.array(self.slice_data_storage[train_trial_iter])\n",
    "            self.spatial_filters[train_trial_iter] = self.feature_extract(train_epochs)\n",
    "            self.template_calculate(train_epochs, train_trial_iter)\n",
    "\n",
    "    def feature_extract(self,data):\n",
    "        \"\"\"\n",
    "        Define of call your manully feature extraction methods here.\n",
    "        \"\"\"\n",
    "        if self.spatial_filter_type == 'TRCA':\n",
    "            return trca_matrix(data)\n",
    "        if self.spatial_filter_type == 'TDCA':\n",
    "            pass\n",
    "        raise Exception('Method not define, you can define it manually!')\n",
    "    \n",
    "    def template_calculate(self, train_data, event_type):\n",
    "        self.template_storage[event_type] = np.mean(train_data, axis=0)\n",
    "        self.template_events = list(self.template_storage.keys())\n",
    "    \n",
    "    def get_model(self):\n",
    "        return self.spatial_filters, self.template_storage, self.event_series"
   ]
  },
  {
   "cell_type": "code",
   "execution_count": 39,
   "metadata": {},
   "outputs": [],
   "source": [
    "class data_cross_validation(data_trainer):\n",
    "    \n",
    "    def cross_validation_runner(self):\n",
    "        self.dataset_split_index = train_test_split(split_type='K_Fold',test_sample_num=self.epochs_in_data, total_sample_num=self.epochs_in_data*self.blocks_in_data)\n",
    "        self.result_saver = result_analyser(self.event_series,self.dataset_split_index.shape[0],self.epochs_in_data, data_type = 'offline', LDA = 'train', OVERLAP = 3)\n",
    "        for cross_validation_iter in range(self.dataset_split_index.shape[0]):\n",
    "            self.CV_iter = cross_validation_iter\n",
    "            print('cross validation loop: {}'.format(cross_validation_iter))\n",
    "            validation_index = self.dataset_split_index[cross_validation_iter,:]\n",
    "            self.trainer(1-validation_index)\n",
    "            self.tester(validation_index)\n",
    "        self.result_saver.ACC_calculate()\n",
    "    \n",
    "    def trainer(self,select_index):\n",
    "        self.spatial_filters = dict()\n",
    "        for train_trial_iter in self.event_series:\n",
    "            self.spatial_filters[train_trial_iter] = self.feature_extract(np.array(self.slice_data_storage[train_trial_iter])[select_index==1,:,:])\n",
    "            self.template_calculate(np.array(self.slice_data_storage[train_trial_iter])[select_index==1,:,:],train_trial_iter)\n",
    "    \n",
    "    def tester(self,select_index):\n",
    "        self.corrcoef_storage = dict()\n",
    "        for test_trial_iter in self.event_series:\n",
    "            test_epoches = np.array(self.slice_data_storage[test_trial_iter])[select_index==1,:,:]\n",
    "            # corrcoef_list = self.corrcoef_storage.setdefault(test_trial_iter, list())\n",
    "            for test_epoch_iter in range(test_epoches.shape[0]):\n",
    "                coef_vector = pattern_match(test_epoches[test_epoch_iter,:,:],self.spatial_filters,self.template_storage)\n",
    "                # corrcoef_list.append(coef_vector)\n",
    "                self.result_saver.result_decide(coef_vector,self.CV_iter,test_trial_iter,test_epoch_iter)\n",
    "\n",
    "    def train_lda(self):\n",
    "        self.result_saver.LDA_model_builder.train_model()\n",
    "        return self.result_saver.LDA_model_builder"
   ]
  },
  {
   "cell_type": "code",
   "execution_count": 40,
   "metadata": {},
   "outputs": [],
   "source": [
    "class simulated_online():\n",
    "    def __init__(self, data, data_info, model):\n",
    "        self.data = data['data']\n",
    "        self.epochs_in_data = data_info['epochs_in_data']\n",
    "        self.spatial_filters = model['spatial_filters']\n",
    "        self.template_storage = model['template_storage']\n",
    "        self.event_series = data['label']\n",
    "        self.result_saver = result_analyser(model['event_series'], CV_loops = 1, epoch_num=self.epochs_in_data, data_type='simu_online',  OVERLAP = 3, LDA = 'test', LDA_model = model['LDA_model'])\n",
    "        self.epoch_count = 0\n",
    "    \n",
    "    def tester(self):\n",
    "        for test_epoch_iter in range(len(self.event_series)):\n",
    "            test_epoches = np.array(self.data[test_epoch_iter])\n",
    "            corrcoef_storage = pattern_match(test_epoches, self.spatial_filters, self.template_storage)\n",
    "            self.result_saver.result_decide(corrcoef_storage, 1, self.event_series[test_epoch_iter]-1, self.epoch_count)\n",
    "            self.epoch_count += 1"
   ]
  },
  {
   "cell_type": "code",
   "execution_count": 41,
   "metadata": {},
   "outputs": [],
   "source": [
    "def offline_data_runner(usrname='S01', data_path='./raw_data/',block_num='block3'):\n",
    "    data_loader = data_preprocessor_raw(usrname, data_path, block_num)\n",
    "    data_loader.read_config_file()\n",
    "    data_loader.read_data()\n",
    "    data_loader.slice_data()\n",
    "    packaged_data, data_info = data_loader.send_data()\n",
    "    model_trainer = data_trainer(packaged_data, data_info)\n",
    "    model_trainer.model_train()\n",
    "    spatial_filters, template_storage, event_series = model_trainer.get_model()\n",
    "    cross_validation_object = data_cross_validation(packaged_data, data_info)\n",
    "    cross_validation_object.cross_validation_runner()\n",
    "    \n",
    "    lda_model = cross_validation_object.train_lda()\n",
    "    \n",
    "    model = dict()\n",
    "    model['spatial_filters'] = spatial_filters\n",
    "    model['template_storage'] = template_storage\n",
    "    model['LDA_model'] = lda_model\n",
    "    model['event_series'] = event_series\n",
    "    \n",
    "    return model"
   ]
  },
  {
   "cell_type": "code",
   "execution_count": 42,
   "metadata": {},
   "outputs": [],
   "source": [
    "def simulated_online_runner(usrname='S01', data_path='./raw_data/', block_num='simu_block3',model = None):\n",
    "    data_loader = data_preprocessor_raw(usrname, data_path, block_num, data_type='simu_online')\n",
    "    data_loader.read_config_file()\n",
    "    data_loader.read_data()\n",
    "    data_loader.slice_data()\n",
    "    packaged_data, data_info = data_loader.send_data()\n",
    "    simulated_online_object = simulated_online(packaged_data, data_info, model)\n",
    "    simulated_online_object.tester()"
   ]
  },
  {
   "cell_type": "code",
   "execution_count": 43,
   "metadata": {},
   "outputs": [
    {
     "name": "stdout",
     "output_type": "stream",
     "text": [
      "Extracting EDF parameters from /Users/meijie/Documents/Code/Drone_EEG_Process/raw_data/S01/block3/data.bdf...\n",
      "BDF file detected\n",
      "Setting channel info structure...\n",
      "Creating raw.info structure...\n",
      "Extracting EDF parameters from /Users/meijie/Documents/Code/Drone_EEG_Process/raw_data/S01/block3/evt.bdf...\n",
      "BDF file detected\n",
      "Setting channel info structure...\n",
      "Creating raw.info structure...\n",
      "mne version > 0.20\n",
      "Note: The raw continuous data has been sliced by its event triggers\n",
      "Note: There are 12 unique triggers in raw data\n",
      "Note: Data check passed, all triggers have same epochs, which is 30\n",
      "cross validation loop: 0\n",
      "ACC of the 0 cross validation loop is: 0.9444444444444444\n",
      "cross validation loop: 1\n",
      "ACC of the 1 cross validation loop is: 0.9722222222222222\n",
      "cross validation loop: 2\n",
      "ACC of the 2 cross validation loop is: 0.9722222222222222\n",
      "cross validation loop: 3\n",
      "ACC of the 3 cross validation loop is: 1.0\n",
      "cross validation loop: 4\n",
      "ACC of the 4 cross validation loop is: 0.9166666666666666\n",
      "cross validation loop: 5\n",
      "ACC of the 5 cross validation loop is: 0.9722222222222222\n",
      "Overall ACC of current data is 0.9629629629629629\n"
     ]
    },
    {
     "data": {
      "image/png": "[encoded data removed]",
      "text/plain": [
       "<Figure size 432x288 with 1 Axes>"
      ]
     },
     "metadata": {
      "needs_background": "light"
     },
     "output_type": "display_data"
    },
    {
     "name": "stdout",
     "output_type": "stream",
     "text": [
      "Extracting EDF parameters from /Users/meijie/Documents/Code/Drone_EEG_Process/raw_data/S01/simu_block3/data.bdf...\n",
      "BDF file detected\n",
      "Setting channel info structure...\n",
      "Creating raw.info structure...\n",
      "Extracting EDF parameters from /Users/meijie/Documents/Code/Drone_EEG_Process/raw_data/S01/simu_block3/evt.bdf...\n",
      "BDF file detected\n",
      "Setting channel info structure...\n",
      "Creating raw.info structure...\n",
      "mne version > 0.20\n",
      "NOTE: LDA was applied to verify the result.\n",
      "NOTE: This is confusing matrix:\n",
      "TP:154.0\tTN:12.0\n",
      "FP:48.0\tFN:24.0\n",
      "Precision:0.8651685393258427\tRecall:0.8651685393258427\n"
     ]
    }
   ],
   "source": [
    "if __name__ == '__main__':\n",
    "    model = offline_data_runner()\n",
    "    simulated_online_runner(model=model)"
   ]
  }
 ],
 "metadata": {
  "interpreter": {
   "hash": "f529364f962c46b29bee8dbbead620c82c5e29dc2d772ca80d5b84ed0057240a"
  },
  "kernelspec": {
   "display_name": "Python 3.9.9 ('datascience')",
   "language": "python",
   "name": "python3"
  },
  "language_info": {
   "codemirror_mode": {
    "name": "ipython",
    "version": 3
   },
   "file_extension": ".py",
   "mimetype": "text/x-python",
   "name": "python",
   "nbconvert_exporter": "python",
   "pygments_lexer": "ipython3",
   "version": "3.9.9"
  },
  "orig_nbformat": 4
 },
 "nbformat": 4,
 "nbformat_minor": 2
}
